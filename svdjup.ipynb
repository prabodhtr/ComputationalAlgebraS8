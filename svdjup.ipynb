{
 "metadata": {
  "language_info": {
   "codemirror_mode": {
    "name": "ipython",
    "version": 3
   },
   "file_extension": ".py",
   "mimetype": "text/x-python",
   "name": "python",
   "nbconvert_exporter": "python",
   "pygments_lexer": "ipython3",
   "version": "3.9.2-final"
  },
  "orig_nbformat": 2,
  "kernelspec": {
   "name": "python39264bitac58e770be4e4a6ca4ed897732cde1bf",
   "display_name": "Python 3.9.2 64-bit"
  }
 },
 "nbformat": 4,
 "nbformat_minor": 2,
 "cells": [
  {
   "cell_type": "code",
   "execution_count": null,
   "metadata": {},
   "outputs": [],
   "source": [
    "import numpy as np\n",
    "import matplotlib.pyplot as plt\n",
    "from matplotlib import image"
   ]
  },
  {
   "cell_type": "code",
   "execution_count": null,
   "metadata": {},
   "outputs": [],
   "source": [
    "#This line is required to display visualizations in the browser\n",
    "%matplotlib inline"
   ]
  },
  {
   "cell_type": "code",
   "execution_count": null,
   "metadata": {},
   "outputs": [],
   "source": [
    "from skimage import data\n",
    "from skimage.color import rgb2gray\n",
    "from PIL import Image"
   ]
  },
  {
   "cell_type": "code",
   "execution_count": null,
   "metadata": {},
   "outputs": [],
   "source": [
    "# importing tools for having interactive UI for user in browser\n",
    "from ipywidgets import interact,interactive,interact_manual"
   ]
  },
  {
   "source": [
    "Now, we have \"gray_images\", a dictionary that stores the matric associated with each image after converting to greyscale. Each time a new image is loaded, its appended to this dictionary before use"
   ],
   "cell_type": "markdown",
   "metadata": {}
  },
  {
   "source": [
    "gray_images = {\n",
    "        \"wallpaper2\"  : np.array(Image.open(\"wallpaper2.jpg\").convert('L'))\n",
    "}\n",
    "\n",
    "def showSourceImage(img_name):\n",
    "        plt.imshow(gray_images[img_name])"
   ],
   "cell_type": "code",
   "metadata": {},
   "execution_count": null,
   "outputs": []
  },
  {
   "cell_type": "code",
   "execution_count": null,
   "metadata": {},
   "outputs": [],
   "source": [
    "interact(showSourceImage, img_name=list(gray_images.keys()))"
   ]
  },
  {
   "cell_type": "code",
   "execution_count": null,
   "metadata": {},
   "outputs": [],
   "source": [
    "# python module that performs SVD\n",
    "from numpy.linalg import svd"
   ]
  },
  {
   "cell_type": "code",
   "execution_count": null,
   "metadata": {},
   "outputs": [],
   "source": [
    "def compress_svd(image,k):\n",
    "    \"\"\"\n",
    "    Perform svd decomposition and truncated (using k singular values/vectors) reconstruction\n",
    "    returns\n",
    "    --------\n",
    "      reconstructed matrix reconst_matrix, 1D array of singular values s\n",
    "    \"\"\"\n",
    "    U,s,V = svd(image,full_matrices=False)\n",
    "    reconst_matrix = np.dot(U[:,:k],np.dot(np.diag(s[:k]),V[:k,:]))\n",
    "    return reconst_matrix,s"
   ]
  },
  {
   "source": [
    "The following function returns the number of singular values present after performing SVD along with the maximum and minimum singular values among them"
   ],
   "cell_type": "markdown",
   "metadata": {}
  },
  {
   "cell_type": "code",
   "execution_count": null,
   "metadata": {},
   "outputs": [],
   "source": [
    "def getSingularValInfo(image):\n",
    "    U,s,V = svd(image,full_matrices=False)\n",
    "    return len(s), s[0], s[-1]"
   ]
  },
  {
   "cell_type": "code",
   "execution_count": null,
   "metadata": {},
   "outputs": [],
   "source": [
    "def compress_show_gray_images(img_name,k):\n",
    "    \"\"\"\n",
    "     compresses gray scale images and display the reconstructed image.\n",
    "    \"\"\"\n",
    "    image=gray_images[img_name]\n",
    "    original_shape = image.shape\n",
    "    reconst_img,s = compress_svd(image,k)\n",
    "\n",
    "    if k != 0:\n",
    "        print(\"k = \"+str(k) + \"\\nMaxSV = \" + str(round(s[0],4)) + \"\\nMinSV = \" + str(round(s[k-1],4)))\n",
    "    else:\n",
    "        print(\"k = 0\")\n",
    "\n",
    "    # Find MSE\n",
    "    sumOfSqOfSVDs = sum(s[i]*s[i] for i in range(k,len(s)))\n",
    "    MSE = sumOfSqOfSVDs/len(s)\n",
    "    print(\"MSE = \" + str(round(MSE,4)))\n",
    "    # compression_ratio =100.0* (k*(original_shape[0] + original_shape[1])+k)/(original_shape[0]*original_shape[1])\n",
    "    # print(\"compression Ratio = \" + str(compression_ratio))\n",
    "    \n",
    "    plt.imshow(X=reconst_img, cmap='gray')"
   ]
  },
  {
   "source": [
    "Modify the path to the image file as well as the image name as per our choice. If the image is used for the first time, its appended to the 'gray_images' dictionary along with its matric"
   ],
   "cell_type": "markdown",
   "metadata": {}
  },
  {
   "cell_type": "code",
   "execution_count": null,
   "metadata": {
    "tags": []
   },
   "outputs": [],
   "source": [
    "path = \"./\"\n",
    "fileName_ext = \"Prabodh T R.jpeg\"\n",
    "fileName = fileName_ext.split('.')[0]\n",
    "pic = Image.open(path + fileName_ext)\n",
    "print(\"Current Image size = \" + str(pic.size))\n",
    "if(pic.size != (640,320)):\n",
    "    ans = input(\"Do you wish to resize the image to 640x320?(y/n)\")\n",
    "    if(ans == 'y'):\n",
    "        newPic = pic.resize((640,320))\n",
    "    else:\n",
    "        newPic = pic\n",
    "\n",
    "gray_images.update({fileName : np.array(newPic.convert('L'))})"
   ]
  },
  {
   "cell_type": "code",
   "execution_count": null,
   "metadata": {},
   "outputs": [],
   "source": [
    "(numberOfSVs, maxVal, minVal)= getSingularValInfo(gray_images[fileName])\n",
    "print(\"Source image SVD information:\\nSingular Values = \" + str(numberOfSVs))\n",
    "print(\"MaxVal = \" + str(round(maxVal,4)))\n",
    "print(\"MinVal = \" + str(round(minVal,4)))"
   ]
  },
  {
   "source": [
    "call the compress_show_gray_images() with different values of k and notice the differences where 'k' is the number of singular values that is considered while performing the low rank approximation of the image matric for image compression. The Mean Squared error is also calculated by dividing the square of singular values left out by total number of singular values"
   ],
   "cell_type": "markdown",
   "metadata": {}
  },
  {
   "cell_type": "code",
   "execution_count": null,
   "metadata": {},
   "outputs": [],
   "source": [
    "compress_show_gray_images(img_name=fileName, k=20)"
   ]
  },
  {
   "source": [
    "For the ease of performing the effect of k or the number of singular values chosen, while compressing the image, we have added an interactive widget that could be accessed from the jupyterLab when opened from the browser. It provides a slider that allows user to change the value of 'k' dynamically and see the effect"
   ],
   "cell_type": "markdown",
   "metadata": {}
  },
  {
   "cell_type": "code",
   "execution_count": null,
   "metadata": {},
   "outputs": [],
   "source": [
    "interact(compress_show_gray_images,img_name=fileName,k=(1,numberOfSVs));"
   ]
  }
 ]
}